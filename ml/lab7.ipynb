{
 "cells": [
  {
   "cell_type": "code",
   "execution_count": 3,
   "metadata": {},
   "outputs": [
    {
     "data": {
      "text/html": [
       "<div>\n",
       "<style scoped>\n",
       "    .dataframe tbody tr th:only-of-type {\n",
       "        vertical-align: middle;\n",
       "    }\n",
       "\n",
       "    .dataframe tbody tr th {\n",
       "        vertical-align: top;\n",
       "    }\n",
       "\n",
       "    .dataframe thead th {\n",
       "        text-align: right;\n",
       "    }\n",
       "</style>\n",
       "<table border=\"1\" class=\"dataframe\">\n",
       "  <thead>\n",
       "    <tr style=\"text-align: right;\">\n",
       "      <th></th>\n",
       "      <th>text</th>\n",
       "      <th>target</th>\n",
       "      <th>category</th>\n",
       "    </tr>\n",
       "  </thead>\n",
       "  <tbody>\n",
       "    <tr>\n",
       "      <th>0</th>\n",
       "      <td>From: degroff@netcom.com (21012d)\\nSubject: Re...</td>\n",
       "      <td>2</td>\n",
       "      <td>sci.space</td>\n",
       "    </tr>\n",
       "    <tr>\n",
       "      <th>1</th>\n",
       "      <td>From: ab@nova.cc.purdue.edu (Allen B)\\nSubject...</td>\n",
       "      <td>1</td>\n",
       "      <td>comp.graphics</td>\n",
       "    </tr>\n",
       "    <tr>\n",
       "      <th>2</th>\n",
       "      <td>From: healta@saturn.wwc.edu (Tammy R Healy)\\nS...</td>\n",
       "      <td>0</td>\n",
       "      <td>alt.atheism</td>\n",
       "    </tr>\n",
       "    <tr>\n",
       "      <th>3</th>\n",
       "      <td>From: capelli@vnet.IBM.COM (Ron Capelli)\\nSubj...</td>\n",
       "      <td>1</td>\n",
       "      <td>comp.graphics</td>\n",
       "    </tr>\n",
       "    <tr>\n",
       "      <th>4</th>\n",
       "      <td>From: henry@zoo.toronto.edu (Henry Spencer)\\nS...</td>\n",
       "      <td>2</td>\n",
       "      <td>sci.space</td>\n",
       "    </tr>\n",
       "    <tr>\n",
       "      <th>...</th>\n",
       "      <td>...</td>\n",
       "      <td>...</td>\n",
       "      <td>...</td>\n",
       "    </tr>\n",
       "    <tr>\n",
       "      <th>1652</th>\n",
       "      <td>From: ab@nova.cc.purdue.edu (Allen B)\\nSubject...</td>\n",
       "      <td>1</td>\n",
       "      <td>comp.graphics</td>\n",
       "    </tr>\n",
       "    <tr>\n",
       "      <th>1653</th>\n",
       "      <td>From: renes@ecpdsharmony.cern.ch (Rene S. Dutc...</td>\n",
       "      <td>1</td>\n",
       "      <td>comp.graphics</td>\n",
       "    </tr>\n",
       "    <tr>\n",
       "      <th>1654</th>\n",
       "      <td>From: xrcjd@resolve.gsfc.nasa.gov (Charles J. ...</td>\n",
       "      <td>2</td>\n",
       "      <td>sci.space</td>\n",
       "    </tr>\n",
       "    <tr>\n",
       "      <th>1655</th>\n",
       "      <td>From: dietz@cs.rochester.edu (Paul Dietz)\\nSub...</td>\n",
       "      <td>2</td>\n",
       "      <td>sci.space</td>\n",
       "    </tr>\n",
       "    <tr>\n",
       "      <th>1656</th>\n",
       "      <td>From: jhwitten@cs.ruu.nl (Jurriaan Wittenberg)...</td>\n",
       "      <td>2</td>\n",
       "      <td>sci.space</td>\n",
       "    </tr>\n",
       "  </tbody>\n",
       "</table>\n",
       "<p>1657 rows × 3 columns</p>\n",
       "</div>"
      ],
      "text/plain": [
       "                                                   text  target       category\n",
       "0     From: degroff@netcom.com (21012d)\\nSubject: Re...       2      sci.space\n",
       "1     From: ab@nova.cc.purdue.edu (Allen B)\\nSubject...       1  comp.graphics\n",
       "2     From: healta@saturn.wwc.edu (Tammy R Healy)\\nS...       0    alt.atheism\n",
       "3     From: capelli@vnet.IBM.COM (Ron Capelli)\\nSubj...       1  comp.graphics\n",
       "4     From: henry@zoo.toronto.edu (Henry Spencer)\\nS...       2      sci.space\n",
       "...                                                 ...     ...            ...\n",
       "1652  From: ab@nova.cc.purdue.edu (Allen B)\\nSubject...       1  comp.graphics\n",
       "1653  From: renes@ecpdsharmony.cern.ch (Rene S. Dutc...       1  comp.graphics\n",
       "1654  From: xrcjd@resolve.gsfc.nasa.gov (Charles J. ...       2      sci.space\n",
       "1655  From: dietz@cs.rochester.edu (Paul Dietz)\\nSub...       2      sci.space\n",
       "1656  From: jhwitten@cs.ruu.nl (Jurriaan Wittenberg)...       2      sci.space\n",
       "\n",
       "[1657 rows x 3 columns]"
      ]
     },
     "execution_count": 3,
     "metadata": {},
     "output_type": "execute_result"
    }
   ],
   "source": [
    "import pandas as pd\n",
    "df_train=pd.read_csv(\"newsgroups_train.csv\")\n",
    "df_test=pd.read_csv(\"newsgroups_test.csv\")\n",
    "df"
   ]
  },
  {
   "cell_type": "code",
   "execution_count": 4,
   "metadata": {},
   "outputs": [
    {
     "name": "stdout",
     "output_type": "stream",
     "text": [
      "[2 1 0]\n"
     ]
    }
   ],
   "source": [
    "print(df['target'].unique())"
   ]
  },
  {
   "cell_type": "code",
   "execution_count": 6,
   "metadata": {},
   "outputs": [
    {
     "name": "stdout",
     "output_type": "stream",
     "text": [
      "['sci.space' 'comp.graphics' 'alt.atheism']\n"
     ]
    }
   ],
   "source": [
    "print(df[\"category\"].unique())"
   ]
  },
  {
   "cell_type": "code",
   "execution_count": 10,
   "metadata": {},
   "outputs": [
    {
     "name": "stdout",
     "output_type": "stream",
     "text": [
      "From: henry@zoo.toronto.edu (Henry Spencer)\n",
      "Subject: Re: TRUE \"GLOBE\", Who makes it?\n",
      "Organization: U of Toronto Zoology\n",
      "Lines: 12\n",
      "\n",
      "In article <bill.047m@xpresso.UUCP> bill@xpresso.UUCP (Bill Vance) writes:\n",
      ">It has been known for quite a while that the earth is actually more pear\n",
      ">shaped than globular/spherical.  Does anyone make a \"globe\" that is accurate\n",
      ">as to actual shape, landmass configuration/Long/Lat lines etc.?\n",
      "\n",
      "I don't think you're going to be able to see the differences from a sphere\n",
      "unless they are greatly exaggerated.  Even the equatorial bulge is only\n",
      "about 1 part in 300 -- you'd never notice a 1mm error in a 30cm globe --\n",
      "and the other deviations from spherical shape are much smaller.\n",
      "-- \n",
      "SVR4 resembles a high-speed collision   | Henry Spencer @ U of Toronto Zoology\n",
      "between SVR3 and SunOS.    - Dick Dunn  |  henry@zoo.toronto.edu  utzoo!henry\n",
      "\n"
     ]
    }
   ],
   "source": [
    "print(df_train.iloc[4][\"text\"])"
   ]
  },
  {
   "cell_type": "code",
   "execution_count": 11,
   "metadata": {},
   "outputs": [
    {
     "name": "stdout",
     "output_type": "stream",
     "text": [
      "(1657, 3)\n"
     ]
    }
   ],
   "source": [
    "print(df_train.shape)"
   ]
  },
  {
   "cell_type": "code",
   "execution_count": 27,
   "metadata": {},
   "outputs": [
    {
     "name": "stdout",
     "output_type": "stream",
     "text": [
      "[[0 0 0 ... 0 0 0]\n",
      " [0 0 0 ... 0 0 0]\n",
      " [0 0 0 ... 0 0 0]\n",
      " ...\n",
      " [0 0 0 ... 0 0 0]\n",
      " [0 0 0 ... 0 0 0]\n",
      " [0 0 0 ... 0 0 0]]\n"
     ]
    }
   ],
   "source": [
    "from sklearn.feature_extraction.text import CountVectorizer\n",
    "vector=CountVectorizer(max_features=1500)\n",
    "vect=vector.fit_transform(df_train.text)\n",
    "vect=vect.toarray()\n",
    "print(vect)"
   ]
  },
  {
   "cell_type": "code",
   "execution_count": 28,
   "metadata": {},
   "outputs": [
    {
     "name": "stdout",
     "output_type": "stream",
     "text": [
      "[1 1 1 1]\n"
     ]
    }
   ],
   "source": [
    "from sklearn.naive_bayes import BernoulliNB\n",
    "model=BernoulliNB()\n",
    "model.fit(vect,df_train.target)\n",
    "y_pred=model.predict(vect)\n",
    "print(y_pred[:4])"
   ]
  },
  {
   "cell_type": "code",
   "execution_count": 29,
   "metadata": {},
   "outputs": [
    {
     "name": "stdout",
     "output_type": "stream",
     "text": [
      "0.8871454435727217\n"
     ]
    }
   ],
   "source": [
    "from sklearn.metrics import accuracy_score\n",
    "print(accuracy_score(y_pred,df_train.target))"
   ]
  },
  {
   "cell_type": "code",
   "execution_count": 30,
   "metadata": {},
   "outputs": [
    {
     "name": "stdout",
     "output_type": "stream",
     "text": [
      "[[0 0 0 ... 0 0 0]\n",
      " [0 0 0 ... 0 0 0]\n",
      " [0 0 0 ... 0 0 0]\n",
      " ...\n",
      " [0 0 0 ... 0 0 0]\n",
      " [1 0 0 ... 0 0 0]\n",
      " [0 0 0 ... 0 0 0]]\n"
     ]
    }
   ],
   "source": [
    "from sklearn.feature_extraction.text import CountVectorizer\n",
    "vector=CountVectorizer(max_features=1500)\n",
    "vect=vector.fit_transform(df_test.text)\n",
    "vect=vect.toarray()\n",
    "print(vect)"
   ]
  },
  {
   "cell_type": "code",
   "execution_count": 31,
   "metadata": {},
   "outputs": [
    {
     "name": "stdout",
     "output_type": "stream",
     "text": [
      "[2 1 1 1]\n"
     ]
    }
   ],
   "source": [
    "model=BernoulliNB()\n",
    "model.fit(vect,df_test.target)\n",
    "y_pred=model.predict(vect)\n",
    "print(y_pred[:4])"
   ]
  },
  {
   "cell_type": "code",
   "execution_count": 32,
   "metadata": {},
   "outputs": [
    {
     "name": "stdout",
     "output_type": "stream",
     "text": [
      "0.9147005444646098\n"
     ]
    }
   ],
   "source": [
    "print(accuracy_score(y_pred,df_test.target))"
   ]
  },
  {
   "cell_type": "code",
   "execution_count": 37,
   "metadata": {},
   "outputs": [
    {
     "name": "stdout",
     "output_type": "stream",
     "text": [
      "[[0. 0. 0. ... 0. 0. 0.]\n",
      " [0. 0. 0. ... 0. 0. 0.]\n",
      " [0. 0. 0. ... 0. 0. 0.]\n",
      " ...\n",
      " [0. 0. 0. ... 0. 0. 0.]\n",
      " [0. 0. 0. ... 0. 0. 0.]\n",
      " [0. 0. 0. ... 0. 0. 0.]]\n"
     ]
    }
   ],
   "source": [
    "from sklearn.feature_extraction.text import TfidfVectorizer\n",
    "from sklearn.naive_bayes import MultinomialNB\n",
    "vector=TfidfVectorizer()\n",
    "vect=vector.fit_transform(df_train.text)\n",
    "vect=vect.toarray()\n",
    "print(vect)"
   ]
  },
  {
   "cell_type": "code",
   "execution_count": 38,
   "metadata": {},
   "outputs": [
    {
     "name": "stdout",
     "output_type": "stream",
     "text": [
      "[2 1 0 ... 2 2 2]\n"
     ]
    }
   ],
   "source": [
    "model=MultinomialNB()\n",
    "model.fit(vect,df_train.target)\n",
    "y_pred=model.predict(vect)\n",
    "print(y_pred)"
   ]
  },
  {
   "cell_type": "code",
   "execution_count": 41,
   "metadata": {},
   "outputs": [
    {
     "name": "stdout",
     "output_type": "stream",
     "text": [
      "0.995775497887749\n"
     ]
    }
   ],
   "source": [
    "print(accuracy_score(y_pred,df_train.target))"
   ]
  },
  {
   "cell_type": "code",
   "execution_count": 40,
   "metadata": {},
   "outputs": [
    {
     "name": "stdout",
     "output_type": "stream",
     "text": [
      "frozenset({'both', 'keep', 'go', 'bottom', 'up', 'against', 'myself', 'you', 'our', 'someone', 'am', 'except', 'into', 'enough', 'to', 'put', 'ten', 'ours', 'nobody', 'out', 'further', 'one', 'should', 'toward', 'top', 'themselves', 'with', 'two', 'whither', 'that', 'until', 'ourselves', 'again', 'back', 'which', 'i', 'always', 'no', 'me', 'can', 'few', 'couldnt', 'well', 'hasnt', 'first', 'or', 'interest', 'none', 're', 'after', 'thru', 'serious', 'several', 'everything', 'front', 'sincere', 'others', 'upon', 'nine', 'became', 'its', 'could', 'anyhow', 'whereupon', 'nowhere', 'becoming', 'although', 'above', 'whatever', 'hers', 'thin', 'twelve', 'yourself', 'it', 'down', 'hereby', 'thereupon', 'we', 'being', 'side', 'since', 'found', 'amount', 'for', 'anyone', 'still', 'whom', 'via', 'off', 'has', 'whoever', 'formerly', 'yours', 'all', 'see', 'give', 'were', 'latter', 'thereafter', 'about', 'become', 'much', 'what', 'between', 'of', 'describe', 'latterly', 'is', 'your', 'system', 'less', 'must', 'whereafter', 'whereby', 'in', 'un', 'seem', 'though', 'mine', 'be', 'either', 'nothing', 'have', 'throughout', 'afterwards', 'some', 'together', 'will', 'ever', 'below', 'meanwhile', 'might', 'therefore', 'only', 'however', 'are', 'whose', 'therein', 'get', 'moreover', 'ltd', 'why', 'another', 'there', 'while', 'many', 'neither', 'something', 'who', 'whereas', 'yet', 'move', 'whole', 'twenty', 'find', 'as', 'more', 'five', 'herein', 'perhaps', 'us', 'each', 'last', 'almost', 'these', 'third', 'six', 'empty', 'alone', 'cannot', 'de', 'hundred', 'do', 'fill', 'co', 'everyone', 'never', 'an', 'would', 'somehow', 'eleven', 'among', 'already', 'mostly', 'herself', 'his', 'without', 'behind', 'and', 'next', 'been', 'if', 'across', 'con', 'thus', 'over', 'beforehand', 'anything', 'same', 'even', 'so', 'around', 'hereupon', 'every', 'four', 'former', 'because', 'how', 'wherever', 'by', 'towards', 'at', 'fifty', 'call', 'thence', 'part', 'whether', 'cry', 'anywhere', 'seemed', 'show', 'they', 'ie', 'before', 'here', 'namely', 'full', 'a', 'whenever', 'now', 'was', 'any', 'rather', 'where', 'when', 'becomes', 'had', 'noone', 'he', 'amoungst', 'made', 'most', 'please', 'etc', 'three', 'than', 'cant', 'beside', 'she', 'her', 'hence', 'onto', 'fifteen', 'from', 'sometime', 'eight', 'often', 'sometimes', 'himself', 'least', 'within', 'else', 'indeed', 'somewhere', 'along', 'due', 'nor', 'everywhere', 'other', 'through', 'them', 'my', 'sixty', 'not', 'own', 'thick', 'name', 'per', 'whence', 'nevertheless', 'thereby', 'take', 'otherwise', 'mill', 'fire', 'detail', 'anyway', 'hereafter', 'once', 'during', 'besides', 'wherein', 'the', 'this', 'on', 'beyond', 'too', 'him', 'then', 'seeming', 'seems', 'amongst', 'also', 'yourselves', 'such', 'bill', 'very', 'their', 'elsewhere', 'under', 'those', 'eg', 'itself', 'forty', 'may', 'done', 'but', 'inc'})\n"
     ]
    }
   ],
   "source": [
    "from sklearn.feature_extraction.text import ENGLISH_STOP_WORDS\n",
    "print(ENGLISH_STOP_WORDS)  #it will remove common english words"
   ]
  },
  {
   "cell_type": "code",
   "execution_count": 62,
   "metadata": {},
   "outputs": [
    {
     "name": "stdout",
     "output_type": "stream",
     "text": [
      "[[0 0 0 ... 0 0 0]\n",
      " [0 0 0 ... 0 0 0]\n",
      " [0 0 0 ... 0 0 0]\n",
      " ...\n",
      " [0 0 0 ... 0 0 0]\n",
      " [1 0 0 ... 0 0 0]\n",
      " [0 0 0 ... 0 0 0]]\n"
     ]
    }
   ],
   "source": [
    "from sklearn.feature_extraction.text import CountVectorizer\n",
    "vector=CountVectorizer(stop_words=\"english\")\n",
    "vect=vector.fit_transform(df_train.text)\n",
    "vect=vect.toarray()\n",
    "print(vect)"
   ]
  },
  {
   "cell_type": "code",
   "execution_count": 63,
   "metadata": {},
   "outputs": [
    {
     "name": "stdout",
     "output_type": "stream",
     "text": [
      "[2 1 1 1]\n"
     ]
    }
   ],
   "source": [
    "model=BernoulliNB()\n",
    "model.fit(vect,df_train.target)\n",
    "y_pred=model.predict(vect)\n",
    "print(y_pred[:4])"
   ]
  },
  {
   "cell_type": "code",
   "execution_count": 64,
   "metadata": {},
   "outputs": [
    {
     "name": "stdout",
     "output_type": "stream",
     "text": [
      "0.984573502722323\n"
     ]
    }
   ],
   "source": [
    "print(accuracy_score(y_pred,df_train.target))"
   ]
  },
  {
   "cell_type": "code",
   "execution_count": null,
   "metadata": {},
   "outputs": [],
   "source": []
  }
 ],
 "metadata": {
  "kernelspec": {
   "display_name": "Python 3",
   "language": "python",
   "name": "python3"
  },
  "language_info": {
   "codemirror_mode": {
    "name": "ipython",
    "version": 3
   },
   "file_extension": ".py",
   "mimetype": "text/x-python",
   "name": "python",
   "nbconvert_exporter": "python",
   "pygments_lexer": "ipython3",
   "version": "3.8.10"
  }
 },
 "nbformat": 4,
 "nbformat_minor": 4
}
