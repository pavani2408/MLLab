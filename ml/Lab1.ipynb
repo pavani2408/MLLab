{
 "cells": [
  {
   "cell_type": "code",
   "execution_count": 2,
   "metadata": {},
   "outputs": [
    {
     "name": "stdout",
     "output_type": "stream",
     "text": [
      "0    10\n",
      "1    20\n",
      "2    30\n",
      "3    40\n",
      "dtype: int64\n"
     ]
    }
   ],
   "source": [
    "import pandas as pd\n",
    "data=[10,20,30,40]\n",
    "v=pd.Series(data)\n",
    "print(v)"
   ]
  },
  {
   "cell_type": "code",
   "execution_count": 5,
   "metadata": {},
   "outputs": [
    {
     "name": "stdout",
     "output_type": "stream",
     "text": [
      "      Name  Age         City\n",
      "0    alice   25     New York\n",
      "1      bob   30  Los Angeles\n",
      "2  charlie   35      chicago\n",
      "    Name  Age         City\n",
      "0  alice   25     New York\n",
      "1    bob   30  Los Angeles\n"
     ]
    }
   ],
   "source": [
    "data={\n",
    "    'Name':['alice','bob','charlie'],\n",
    "    'Age':[25,30,35],\n",
    "    'City':['New York','Los Angeles','chicago']\n",
    "}\n",
    "df=pd.DataFrame(data)\n",
    "print(df)\n",
    "print(df.head(2))"
   ]
  },
  {
   "cell_type": "code",
   "execution_count": 8,
   "metadata": {},
   "outputs": [
    {
     "name": "stdout",
     "output_type": "stream",
     "text": [
      "   TransactionID TransactionDate  UserID  ProductID  Quantity\n",
      "0              1      2010-08-21     7.0          2         1\n",
      "1              2      2011-05-26     3.0          4         1\n",
      "2              3      2011-06-16     3.0          3         1\n",
      "3              4      2012-08-26     1.0          2         3\n",
      "4              5      2013-06-06     2.0          4         1\n",
      "5              6      2013-12-23     2.0          5         6\n",
      "6              7      2013-12-30     3.0          4         1\n",
      "7              8      2014-04-24     NaN          2         3\n",
      "8              9      2015-04-24     7.0          4         3\n",
      "9             10      2016-05-08     3.0          4         4\n",
      "       TransactionID    UserID  ProductID   Quantity\n",
      "count       10.00000  9.000000  10.000000  10.000000\n",
      "mean         5.50000  3.444444   3.400000   2.400000\n",
      "std          3.02765  2.127858   1.074968   1.712698\n",
      "min          1.00000  1.000000   2.000000   1.000000\n",
      "25%          3.25000  2.000000   2.250000   1.000000\n",
      "50%          5.50000  3.000000   4.000000   2.000000\n",
      "75%          7.75000  3.000000   4.000000   3.000000\n",
      "max         10.00000  7.000000   5.000000   6.000000\n",
      "<class 'pandas.core.frame.DataFrame'>\n",
      "RangeIndex: 10 entries, 0 to 9\n",
      "Data columns (total 5 columns):\n",
      " #   Column           Non-Null Count  Dtype  \n",
      "---  ------           --------------  -----  \n",
      " 0   TransactionID    10 non-null     int64  \n",
      " 1   TransactionDate  10 non-null     object \n",
      " 2   UserID           9 non-null      float64\n",
      " 3   ProductID        10 non-null     int64  \n",
      " 4   Quantity         10 non-null     int64  \n",
      "dtypes: float64(1), int64(3), object(1)\n",
      "memory usage: 528.0+ bytes\n",
      "None\n",
      "0    7.0\n",
      "1    3.0\n",
      "2    3.0\n",
      "3    1.0\n",
      "4    2.0\n",
      "5    2.0\n",
      "6    3.0\n",
      "7    NaN\n",
      "8    7.0\n",
      "9    3.0\n",
      "Name: UserID, dtype: float64\n"
     ]
    }
   ],
   "source": [
    "import pandas as pd\n",
    "df=pd.read_csv(\"transactions.csv\")\n",
    "print(df.head(10))\n",
    "print(df.describe())\n",
    "print(df.info())\n",
    "print(df['UserID'])"
   ]
  },
  {
   "cell_type": "code",
   "execution_count": 3,
   "metadata": {},
   "outputs": [
    {
     "name": "stdout",
     "output_type": "stream",
     "text": [
      "   TransactionID TransactionDate  UserID  ProductID  Quantity\n",
      "5              6      2013-12-23     2.0          5         6\n",
      "6              7      2013-12-30     3.0          4         1\n",
      "7              8      2014-04-24     NaN          2         3\n",
      "8              9      2015-04-24     7.0          4         3\n",
      "9             10      2016-05-08     3.0          4         4\n"
     ]
    }
   ],
   "source": [
    "import pandas as pd\n",
    "df=pd.read_csv(\"transactions.csv\")\n",
    "print(df.tail(5))"
   ]
  },
  {
   "cell_type": "code",
   "execution_count": 12,
   "metadata": {},
   "outputs": [
    {
     "name": "stdout",
     "output_type": "stream",
     "text": [
      "0    7.0\n",
      "1    3.0\n",
      "2    3.0\n",
      "3    1.0\n",
      "4    2.0\n",
      "5    2.0\n",
      "6    3.0\n",
      "7    NaN\n",
      "8    7.0\n",
      "9    3.0\n",
      "Name: UserID, dtype: float64\n"
     ]
    }
   ],
   "source": [
    "import pandas as pd\n",
    "df=pd.read_csv(\"transactions.csv\")\n",
    "print(df['UserID'])\n"
   ]
  },
  {
   "cell_type": "code",
   "execution_count": 13,
   "metadata": {},
   "outputs": [
    {
     "name": "stdout",
     "output_type": "stream",
     "text": [
      "<class 'pandas.core.frame.DataFrame'>\n",
      "RangeIndex: 10 entries, 0 to 9\n",
      "Data columns (total 5 columns):\n",
      " #   Column           Non-Null Count  Dtype  \n",
      "---  ------           --------------  -----  \n",
      " 0   TransactionID    10 non-null     int64  \n",
      " 1   TransactionDate  10 non-null     object \n",
      " 2   UserID           9 non-null      float64\n",
      " 3   ProductID        10 non-null     int64  \n",
      " 4   Quantity         10 non-null     int64  \n",
      "dtypes: float64(1), int64(3), object(1)\n",
      "memory usage: 528.0+ bytes\n",
      "None\n"
     ]
    }
   ],
   "source": [
    "import pandas as pd\n",
    "df=pd.read_csv(\"transactions.csv\")\n",
    "print(df.info())"
   ]
  },
  {
   "cell_type": "code",
   "execution_count": 14,
   "metadata": {},
   "outputs": [
    {
     "name": "stdout",
     "output_type": "stream",
     "text": [
      "   TransactionID TransactionDate  UserID  ProductID  quant\n",
      "0              1      2010-08-21     7.0          2      1\n",
      "1              2      2011-05-26     3.0          4      1\n",
      "2              3      2011-06-16     3.0          3      1\n",
      "3              4      2012-08-26     1.0          2      3\n",
      "4              5      2013-06-06     2.0          4      1\n",
      "5              6      2013-12-23     2.0          5      6\n",
      "6              7      2013-12-30     3.0          4      1\n",
      "7              8      2014-04-24     NaN          2      3\n",
      "8              9      2015-04-24     7.0          4      3\n",
      "9             10      2016-05-08     3.0          4      4\n"
     ]
    }
   ],
   "source": [
    "import pandas as pd\n",
    "df=pd.read_csv(\"transactions.csv\")\n",
    "df.rename(columns={\"Quantity\":\"quant\"},inplace=True)\n",
    "print(df)"
   ]
  },
  {
   "cell_type": "code",
   "execution_count": 25,
   "metadata": {},
   "outputs": [
    {
     "name": "stdout",
     "output_type": "stream",
     "text": [
      "today's date:\n",
      "2025-01-28 00:00:00\n"
     ]
    }
   ],
   "source": [
    "import pandas as pd\n",
    "from datetime import date\n",
    "now=pd.to_datetime(str(date.today()),format='%Y-%m-%d')\n",
    "print(\"today's date:\")\n",
    "print(now)"
   ]
  },
  {
   "cell_type": "code",
   "execution_count": 27,
   "metadata": {},
   "outputs": [
    {
     "name": "stdout",
     "output_type": "stream",
     "text": [
      "today's date:\n",
      "2025-01-28 00:00:00\n"
     ]
    }
   ],
   "source": [
    "import pandas as pd\n",
    "from datetime import date\n",
    "now=pd.to_datetime(str(date.today()),format='%Y-%m-%d')\n",
    "print(\"today's date:\")\n",
    "print(now)"
   ]
  },
  {
   "cell_type": "code",
   "execution_count": 28,
   "metadata": {},
   "outputs": [
    {
     "name": "stdout",
     "output_type": "stream",
     "text": [
      "printing second row from transactions.csv file\n",
      "[2 '2011-05-26' 3.0 4 1]\n"
     ]
    }
   ],
   "source": [
    "import pandas as pd\n",
    "df=pd.read_csv(\"transactions.csv\")\n",
    "second_row=df.iloc[1].values\n",
    "print(\"printing second row from transactions.csv file\");\n",
    "print(second_row)\n"
   ]
  },
  {
   "cell_type": "code",
   "execution_count": 29,
   "metadata": {},
   "outputs": [
    {
     "name": "stdout",
     "output_type": "stream",
     "text": [
      "0    7.0\n",
      "1    3.0\n",
      "2    3.0\n",
      "3    1.0\n",
      "4    2.0\n",
      "5    2.0\n",
      "6    3.0\n",
      "7    NaN\n",
      "8    7.0\n",
      "9    3.0\n",
      "Name: UserID, dtype: float64\n"
     ]
    }
   ],
   "source": [
    "import pandas as pd\n",
    "df=pd.read_csv(\"transactions.csv\")\n",
    "print(df['UserID'])"
   ]
  },
  {
   "cell_type": "code",
   "execution_count": 36,
   "metadata": {},
   "outputs": [
    {
     "name": "stdout",
     "output_type": "stream",
     "text": [
      "   UserID  ProductID\n",
      "0     7.0          2\n",
      "1     3.0          4\n",
      "2     3.0          3\n",
      "3     1.0          2\n",
      "4     2.0          4\n",
      "5     2.0          5\n",
      "6     3.0          4\n",
      "7     NaN          2\n",
      "8     7.0          4\n",
      "9     3.0          4\n"
     ]
    }
   ],
   "source": [
    "import pandas as pd\n",
    "df=pd.read_csv(\"transactions.csv\")\n",
    "print(df[['UserID','ProductID']])"
   ]
  },
  {
   "cell_type": "code",
   "execution_count": 38,
   "metadata": {},
   "outputs": [
    {
     "name": "stdout",
     "output_type": "stream",
     "text": [
      "       TransactionID    UserID  ProductID   Quantity\n",
      "count       10.00000  9.000000  10.000000  10.000000\n",
      "mean         5.50000  3.444444   3.400000   2.400000\n",
      "std          3.02765  2.127858   1.074968   1.712698\n",
      "min          1.00000  1.000000   2.000000   1.000000\n",
      "25%          3.25000  2.000000   2.250000   1.000000\n",
      "50%          5.50000  3.000000   4.000000   2.000000\n",
      "75%          7.75000  3.000000   4.000000   3.000000\n",
      "max         10.00000  7.000000   5.000000   6.000000\n"
     ]
    }
   ],
   "source": [
    "#1.Print Summary of transaction data set\n",
    "import pandas as pd\n",
    "df=pd.read_csv(\"transactions.csv\")\n",
    "print(df.describe())"
   ]
  },
  {
   "cell_type": "code",
   "execution_count": 40,
   "metadata": {},
   "outputs": [
    {
     "name": "stdout",
     "output_type": "stream",
     "text": [
      "5\n"
     ]
    }
   ],
   "source": [
    "#2.Print Numbers of Attributes\n",
    "import pandas as pd\n",
    "df=pd.read_csv(\"transactions.csv\")\n",
    "column_count=len(df.columns)\n",
    "print(column_count)"
   ]
  },
  {
   "cell_type": "code",
   "execution_count": 42,
   "metadata": {},
   "outputs": [
    {
     "name": "stdout",
     "output_type": "stream",
     "text": [
      "10\n"
     ]
    }
   ],
   "source": [
    "#3.Print Numbers of Records\n",
    "import pandas as pd\n",
    "df=pd.read_csv(\"transactions.csv\")\n",
    "row_count=len(df)\n",
    "print(row_count)"
   ]
  },
  {
   "cell_type": "code",
   "execution_count": 49,
   "metadata": {},
   "outputs": [
    {
     "name": "stdout",
     "output_type": "stream",
     "text": [
      "RangeIndex(start=0, stop=10, step=1)\n",
      "Row Names: [0, 1, 2, 3, 4, 5, 6, 7, 8, 9]\n"
     ]
    }
   ],
   "source": [
    "#4.Get the row names\n",
    "import pandas as pd\n",
    "df=pd.read_csv(\"transactions.csv\")\n",
    "row_names = df.index\n",
    "print(row_names)\n",
    "print(f\"Row Names: {list(row_names)}\")"
   ]
  },
  {
   "cell_type": "code",
   "execution_count": 50,
   "metadata": {},
   "outputs": [
    {
     "name": "stdout",
     "output_type": "stream",
     "text": [
      "columns_names:['TransactionID', 'TransactionDate', 'UserID', 'ProductID', 'Quantity']\n"
     ]
    }
   ],
   "source": [
    "#5.Get the column names\n",
    "import pandas as pd\n",
    "df=pd.read_csv(\"transactions.csv\")\n",
    "columns_names=df.columns\n",
    "print(f\"columns_names:{list(columns_names)}\")\n"
   ]
  },
  {
   "cell_type": "code",
   "execution_count": 51,
   "metadata": {},
   "outputs": [
    {
     "name": "stdout",
     "output_type": "stream",
     "text": [
      "   TransactionID TransactionDate  UserID  ProductID  Quantity\n",
      "0              1      2010-08-21     7.0          2         1\n",
      "1              2      2011-05-26     3.0          4         1\n",
      "2              3      2011-06-16     3.0          3         1\n",
      "3              4      2012-08-26     1.0          2         3\n",
      "4              5      2013-06-06     2.0          4         1\n",
      "5              6      2013-12-23     2.0          5         6\n",
      "6              7      2013-12-30     3.0          4         1\n",
      "7              8      2014-04-24     NaN          2         3\n",
      "8              9      2015-04-24     7.0          4         3\n",
      "9             10      2016-05-08     3.0          4         4\n"
     ]
    }
   ],
   "source": [
    "#6. View top 10 Records\n",
    "import pandas as pd\n",
    "df=pd.read_csv(\"transactions.csv\")\n",
    "print(df.head(10))\n"
   ]
  },
  {
   "cell_type": "code",
   "execution_count": 54,
   "metadata": {},
   "outputs": [
    {
     "name": "stdout",
     "output_type": "stream",
     "text": [
      "   TransactionID TransactionDate  UserID  ProductID  Qty\n",
      "0              1      2010-08-21     7.0          2    1\n",
      "1              2      2011-05-26     3.0          4    1\n",
      "2              3      2011-06-16     3.0          3    1\n",
      "3              4      2012-08-26     1.0          2    3\n",
      "4              5      2013-06-06     2.0          4    1\n",
      "5              6      2013-12-23     2.0          5    6\n",
      "6              7      2013-12-30     3.0          4    1\n",
      "7              8      2014-04-24     NaN          2    3\n",
      "8              9      2015-04-24     7.0          4    3\n",
      "9             10      2016-05-08     3.0          4    4\n"
     ]
    }
   ],
   "source": [
    "#7.Change the name of column “ Quantity” to “Quant”\n",
    "import pandas as pd\n",
    "df=pd.read_csv(\"transactions.csv\")\n",
    "df.rename(columns={\"Quantity\":\"Qty\"},inplace=True)\n",
    "print(df)"
   ]
  },
  {
   "cell_type": "code",
   "execution_count": 58,
   "metadata": {},
   "outputs": [
    {
     "name": "stdout",
     "output_type": "stream",
     "text": [
      "   TransactionID TransactionDate  UID  PID  Quantity\n",
      "0              1      2010-08-21  7.0    2         1\n",
      "1              2      2011-05-26  3.0    4         1\n",
      "2              3      2011-06-16  3.0    3         1\n",
      "3              4      2012-08-26  1.0    2         3\n",
      "4              5      2013-06-06  2.0    4         1\n",
      "5              6      2013-12-23  2.0    5         6\n",
      "6              7      2013-12-30  3.0    4         1\n",
      "7              8      2014-04-24  NaN    2         3\n",
      "8              9      2015-04-24  7.0    4         3\n",
      "9             10      2016-05-08  3.0    4         4\n"
     ]
    }
   ],
   "source": [
    "#8.Change the name of columns ProductID and UserID\n",
    "import pandas as pd\n",
    "df=pd.read_csv(\"transactions.csv\")\n",
    "df.rename(columns={\"ProductID\":\"PID\",\"UserID\":\"UID\"},inplace=True)\n",
    "print(df)"
   ]
  },
  {
   "cell_type": "code",
   "execution_count": 65,
   "metadata": {},
   "outputs": [
    {
     "name": "stdout",
     "output_type": "stream",
     "text": [
      "   TransactionID TransactionDate  UserID  ProductID  Quantity\n",
      "9             10      2016-05-08     3.0          4         4\n",
      "8              9      2015-04-24     7.0          4         3\n",
      "7              8      2014-04-24     NaN          2         3\n",
      "6              7      2013-12-30     3.0          4         1\n",
      "5              6      2013-12-23     2.0          5         6\n",
      "4              5      2013-06-06     2.0          4         1\n",
      "3              4      2012-08-26     1.0          2         3\n",
      "2              3      2011-06-16     3.0          3         1\n",
      "1              2      2011-05-26     3.0          4         1\n",
      "0              1      2010-08-21     7.0          2         1\n",
      "   TransactionID TransactionDate  UserID  ProductID  Quantity\n",
      "0              1      2010-08-21     7.0          2         1\n",
      "1              2      2011-05-26     3.0          4         1\n",
      "2              3      2011-06-16     3.0          3         1\n",
      "3              4      2012-08-26     1.0          2         3\n",
      "4              5      2013-06-06     2.0          4         1\n",
      "5              6      2013-12-23     2.0          5         6\n",
      "6              7      2013-12-30     3.0          4         1\n",
      "7              8      2014-04-24     NaN          2         3\n",
      "8              9      2015-04-24     7.0          4         3\n",
      "9             10      2016-05-08     3.0          4         4\n",
      "   TransactionID TransactionDate  UserID  ProductID  Quantity\n",
      "0              1      2010-08-21     7.0          2         1\n",
      "3              4      2012-08-26     1.0          2         3\n",
      "7              8      2014-04-24     NaN          2         3\n",
      "2              3      2011-06-16     3.0          3         1\n",
      "1              2      2011-05-26     3.0          4         1\n",
      "4              5      2013-06-06     2.0          4         1\n",
      "6              7      2013-12-30     3.0          4         1\n",
      "8              9      2015-04-24     7.0          4         3\n",
      "9             10      2016-05-08     3.0          4         4\n",
      "5              6      2013-12-23     2.0          5         6\n"
     ]
    }
   ],
   "source": [
    "#9. Order the rows of transactions by TransactionId descending, \n",
    "#if ascending then ascending=True\n",
    "import pandas as pd\n",
    "df=pd.read_csv(\"transactions.csv\")\n",
    "row_dec=df.sort_values(by=\"TransactionID\",ascending=False)\n",
    "print(row_dec)\n",
    "\n",
    "row_asc=df.sort_values(by=\"TransactionID\",ascending=True)\n",
    "print(row_asc)\n",
    "\n",
    "row_asc=df.sort_values(by=\"ProductID\",ascending=True)\n",
    "print(row_asc)"
   ]
  },
  {
   "cell_type": "code",
   "execution_count": 68,
   "metadata": {},
   "outputs": [
    {
     "name": "stdout",
     "output_type": "stream",
     "text": [
      "   TransactionID TransactionDate  UserID  ProductID  Quantity\n",
      "0              1      2010-08-21     7.0          2         1\n",
      "1              2      2011-05-26     3.0          4         1\n",
      "2              3      2011-06-16     3.0          3         1\n",
      "4              5      2013-06-06     2.0          4         1\n",
      "6              7      2013-12-30     3.0          4         1\n",
      "3              4      2012-08-26     1.0          2         3\n",
      "7              8      2014-04-24     NaN          2         3\n",
      "8              9      2015-04-24     7.0          4         3\n",
      "9             10      2016-05-08     3.0          4         4\n",
      "5              6      2013-12-23     2.0          5         6\n",
      "   TransactionID TransactionDate  UserID  ProductID  Quantity\n",
      "9             10      2016-05-08     3.0          4         4\n",
      "8              9      2015-04-24     7.0          4         3\n",
      "7              8      2014-04-24     NaN          2         3\n",
      "6              7      2013-12-30     3.0          4         1\n",
      "5              6      2013-12-23     2.0          5         6\n",
      "4              5      2013-06-06     2.0          4         1\n",
      "3              4      2012-08-26     1.0          2         3\n",
      "2              3      2011-06-16     3.0          3         1\n",
      "1              2      2011-05-26     3.0          4         1\n",
      "0              1      2010-08-21     7.0          2         1\n"
     ]
    }
   ],
   "source": [
    "#10.Order the rows of transactions by Quantity\n",
    "#ascending, TransactionDate descending\n",
    "import pandas as pd\n",
    "df=pd.read_csv(\"transactions.csv\")\n",
    "row_asc=df.sort_values(by=\"Quantity\",ascending=True)\n",
    "print(row_asc)\n",
    "\n",
    "row_dec=df.sort_values(by=\"TransactionDate\",ascending=False)\n",
    "print(row_dec)"
   ]
  },
  {
   "cell_type": "code",
   "execution_count": 70,
   "metadata": {},
   "outputs": [
    {
     "name": "stdout",
     "output_type": "stream",
     "text": [
      "   ProductID  Quantity TransactionDate  TransactionID  UserID\n",
      "0          2         1      2010-08-21              1     7.0\n",
      "1          4         1      2011-05-26              2     3.0\n",
      "2          3         1      2011-06-16              3     3.0\n",
      "3          2         3      2012-08-26              4     1.0\n",
      "4          4         1      2013-06-06              5     2.0\n",
      "5          5         6      2013-12-23              6     2.0\n",
      "6          4         1      2013-12-30              7     3.0\n",
      "7          2         3      2014-04-24              8     NaN\n",
      "8          4         3      2015-04-24              9     7.0\n",
      "9          4         4      2016-05-08             10     3.0\n"
     ]
    }
   ],
   "source": [
    "#11. Set the column order of Transactions as ProductID,\n",
    "#Quantity, TransactionDate, TransactionID, UserID\n",
    "import pandas as pd\n",
    "df=pd.read_csv(\"transactions.csv\")\n",
    "column_change=[\"ProductID\",\"Quantity\",\"TransactionDate\",\"TransactionID\",\"UserID\"]\n",
    "df=df[column_change]\n",
    "print(df)"
   ]
  },
  {
   "cell_type": "code",
   "execution_count": 72,
   "metadata": {},
   "outputs": [
    {
     "name": "stdout",
     "output_type": "stream",
     "text": [
      "   UserID  TransactionID TransactionDate  UserID  ProductID  Quantity\n",
      "0     7.0              1      2010-08-21     7.0          2         1\n",
      "1     3.0              2      2011-05-26     3.0          4         1\n",
      "2     3.0              3      2011-06-16     3.0          3         1\n",
      "3     1.0              4      2012-08-26     1.0          2         3\n",
      "4     2.0              5      2013-06-06     2.0          4         1\n",
      "5     2.0              6      2013-12-23     2.0          5         6\n",
      "6     3.0              7      2013-12-30     3.0          4         1\n",
      "7     NaN              8      2014-04-24     NaN          2         3\n",
      "8     7.0              9      2015-04-24     7.0          4         3\n",
      "9     3.0             10      2016-05-08     3.0          4         4\n"
     ]
    }
   ],
   "source": [
    "#12. Make UserID the first column of transactions\n",
    "import pandas as pd\n",
    "df=pd.read_csv(\"transactions.csv\")\n",
    "column_change=[\"UserID\",\"TransactionID\",\"TransactionDate\",\"UserID\",\"ProductID\",\"Quantity\"]\n",
    "df=df[column_change]\n",
    "print(df)"
   ]
  },
  {
   "cell_type": "code",
   "execution_count": 76,
   "metadata": {
    "scrolled": true
   },
   "outputs": [
    {
     "name": "stdout",
     "output_type": "stream",
     "text": [
      "0    2010-08-21\n",
      "1    2011-05-26\n",
      "2    2011-06-16\n",
      "3    2012-08-26\n",
      "4    2013-06-06\n",
      "5    2013-12-23\n",
      "6    2013-12-30\n",
      "7    2014-04-24\n",
      "8    2015-04-24\n",
      "9    2016-05-08\n",
      "Name: TransactionDate, dtype: object\n",
      "['2010-08-21' '2011-05-26' '2011-06-16' '2012-08-26' '2013-06-06'\n",
      " '2013-12-23' '2013-12-30' '2014-04-24' '2015-04-24' '2016-05-08']\n"
     ]
    }
   ],
   "source": [
    "#13  Extracting arrays from a Data Frame. Get the 2nd\n",
    "#column\n",
    "import pandas as pd\n",
    "df=pd.read_csv(\"transactions.csv\")\n",
    "second_column=df.iloc[:,1]\n",
    "print(second_column)\n",
    "\n",
    "second_column_array=second_column.values\n",
    "print(second_column_array)\n"
   ]
  },
  {
   "cell_type": "code",
   "execution_count": null,
   "metadata": {},
   "outputs": [],
   "source": []
  },
  {
   "cell_type": "code",
   "execution_count": 77,
   "metadata": {},
   "outputs": [
    {
     "name": "stdout",
     "output_type": "stream",
     "text": [
      "[2 4 3 2 4 5 4 2 4 4]\n"
     ]
    }
   ],
   "source": [
    "#14  Get the ProductID Array\n",
    "product_array=df['ProductID'].values\n",
    "print(product_array)"
   ]
  },
  {
   "cell_type": "code",
   "execution_count": null,
   "metadata": {},
   "outputs": [],
   "source": [
    "#15  Get the ProductId array using the following variable\n",
    "\n"
   ]
  },
  {
   "cell_type": "code",
   "execution_count": 79,
   "metadata": {},
   "outputs": [
    {
     "name": "stdout",
     "output_type": "stream",
     "text": [
      "   TransactionID TransactionDate  UserID  ProductID  Quantity\n",
      "1              2      2011-05-26     3.0          4         1\n",
      "3              4      2012-08-26     1.0          2         3\n",
      "6              7      2013-12-30     3.0          4         1\n"
     ]
    }
   ],
   "source": [
    "#16 Row subsetting, subset rows 1,3 and 6\n",
    "subset_row=df.iloc[[1,3,6]]\n",
    "print(subset_row)\n"
   ]
  },
  {
   "cell_type": "code",
   "execution_count": null,
   "metadata": {},
   "outputs": [],
   "source": [
    "#17  subset rows excluding 1,3 and 6\n",
    "foo=[True,False,True,False,True,True,True]\n"
   ]
  },
  {
   "cell_type": "code",
   "execution_count": 2,
   "metadata": {},
   "outputs": [
    {
     "name": "stdout",
     "output_type": "stream",
     "text": [
      "   TransactionID TransactionDate  UserID  ProductID  Quantity\n",
      "0              1      2010-08-21     7.0          2         1\n",
      "1              2      2011-05-26     3.0          4         1\n",
      "2              3      2011-06-16     3.0          3         1\n"
     ]
    }
   ],
   "source": [
    "#18  Subset the first three rows   \n",
    "import pandas as pd\n",
    "df=pd.read_csv(\"transactions.csv\")\n",
    "subset_df=df.head(3)\n",
    "print(subset_df)"
   ]
  },
  {
   "cell_type": "code",
   "execution_count": 3,
   "metadata": {},
   "outputs": [
    {
     "name": "stdout",
     "output_type": "stream",
     "text": [
      "   TransactionID TransactionDate  UserID  ProductID  Quantity\n",
      "0              1      2010-08-21     7.0          2         1\n",
      "1              2      2011-05-26     3.0          4         1\n"
     ]
    }
   ],
   "source": [
    "#19  Subset the last 2 rows\n",
    "subset_df=df.head(2)\n",
    "print(subset_df)"
   ]
  },
  {
   "cell_type": "code",
   "execution_count": 4,
   "metadata": {},
   "outputs": [
    {
     "name": "stdout",
     "output_type": "stream",
     "text": [
      "   TransactionID TransactionDate  UserID  ProductID  Quantity\n",
      "0              1      2010-08-21     7.0          2         1\n",
      "1              2      2011-05-26     3.0          4         1\n",
      "2              3      2011-06-16     3.0          3         1\n",
      "3              4      2012-08-26     1.0          2         3\n",
      "4              5      2013-06-06     2.0          4         1\n",
      "5              6      2013-12-23     2.0          5         6\n",
      "6              7      2013-12-30     3.0          4         1\n",
      "7              8      2014-04-24     NaN          2         3\n"
     ]
    }
   ],
   "source": [
    "#20  Subset rows excluding the last 2 rows\n",
    "subset_df = df.iloc[:-2]\n",
    "print(subset_df)"
   ]
  },
  {
   "cell_type": "code",
   "execution_count": 5,
   "metadata": {},
   "outputs": [
    {
     "name": "stdout",
     "output_type": "stream",
     "text": [
      "   TransactionID TransactionDate  UserID  ProductID  Quantity\n",
      "3              4      2012-08-26     1.0          2         3\n",
      "4              5      2013-06-06     2.0          4         1\n",
      "5              6      2013-12-23     2.0          5         6\n",
      "6              7      2013-12-30     3.0          4         1\n",
      "7              8      2014-04-24     NaN          2         3\n",
      "8              9      2015-04-24     7.0          4         3\n",
      "9             10      2016-05-08     3.0          4         4\n"
     ]
    }
   ],
   "source": [
    "#21  Subset rows excluding the first 3 rows\n",
    "subset_df = df.iloc[3:]\n",
    "print(subset_df)"
   ]
  },
  {
   "cell_type": "code",
   "execution_count": 6,
   "metadata": {},
   "outputs": [
    {
     "name": "stdout",
     "output_type": "stream",
     "text": [
      "   TransactionID TransactionDate  UserID  ProductID  Quantity\n",
      "3              4      2012-08-26     1.0          2         3\n",
      "5              6      2013-12-23     2.0          5         6\n",
      "7              8      2014-04-24     NaN          2         3\n",
      "8              9      2015-04-24     7.0          4         3\n",
      "9             10      2016-05-08     3.0          4         4\n"
     ]
    }
   ],
   "source": [
    "#22 . Subset rows where Quantity>1\n",
    "subset_df = df[df['Quantity'] > 1]\n",
    "print(subset_df)\n"
   ]
  },
  {
   "cell_type": "code",
   "execution_count": 7,
   "metadata": {},
   "outputs": [
    {
     "name": "stdout",
     "output_type": "stream",
     "text": [
      "   TransactionID TransactionDate  UserID  ProductID  Quantity\n",
      "4              5      2013-06-06     2.0          4         1\n",
      "5              6      2013-12-23     2.0          5         6\n"
     ]
    }
   ],
   "source": [
    "#23 Subset rows where UserID=2\n",
    "subset_df = df[df['UserID'] == 2]\n",
    "print(subset_df)\n"
   ]
  },
  {
   "cell_type": "code",
   "execution_count": 8,
   "metadata": {},
   "outputs": [
    {
     "name": "stdout",
     "output_type": "stream",
     "text": [
      "   TransactionID TransactionDate  UserID  ProductID  Quantity\n",
      "5              6      2013-12-23     2.0          5         6\n"
     ]
    }
   ],
   "source": [
    "#24. Subset rows where Quantity>1 and UserID=2\n",
    "subset_df = df[(df['Quantity'] > 1) & (df['UserID'] == 2)]\n",
    "print(subset_df)\n"
   ]
  },
  {
   "cell_type": "code",
   "execution_count": 9,
   "metadata": {},
   "outputs": [
    {
     "name": "stdout",
     "output_type": "stream",
     "text": [
      "   TransactionID TransactionDate  UserID  ProductID  Quantity\n",
      "0              1      2010-08-21     7.0          2         1\n",
      "1              2      2011-05-26     3.0          4         1\n",
      "2              3      2011-06-16     3.0          3         1\n",
      "3              4      2012-08-26     1.0          2         3\n",
      "5              6      2013-12-23     2.0          5         6\n",
      "6              7      2013-12-30     3.0          4         1\n",
      "8              9      2015-04-24     7.0          4         3\n",
      "9             10      2016-05-08     3.0          4         4\n"
     ]
    }
   ],
   "source": [
    "#25. Subset rows where Quantity + UserID is >3\n",
    "subset_df = df[(df['Quantity'] + df['UserID']) > 3]\n",
    "print(subset_df)"
   ]
  },
  {
   "cell_type": "code",
   "execution_count": 10,
   "metadata": {},
   "outputs": [
    {
     "name": "stdout",
     "output_type": "stream",
     "text": [
      "   TransactionID TransactionDate  UserID  ProductID  Quantity\n",
      "0              1      2010-08-21     7.0          2         1\n",
      "2              3      2011-06-16     3.0          3         1\n",
      "3              4      2012-08-26     1.0          2         3\n",
      "5              6      2013-12-23     2.0          5         6\n",
      "7              8      2014-04-24     NaN          2         3\n",
      "8              9      2015-04-24     7.0          4         3\n"
     ]
    }
   ],
   "source": [
    "#26. Subset rows where an external array, foo, is True\n",
    "foo = [True, False, True, True, False, True, False, True, True, False]\n",
    "subset_df = df[foo]\n",
    "print(subset_df)\n"
   ]
  },
  {
   "cell_type": "code",
   "execution_count": 12,
   "metadata": {},
   "outputs": [
    {
     "name": "stdout",
     "output_type": "stream",
     "text": [
      "   TransactionID TransactionDate  UserID  ProductID  Quantity\n",
      "0              1      2010-08-21     7.0          2         1\n",
      "2              3      2011-06-16     3.0          3         1\n",
      "3              4      2012-08-26     1.0          2         3\n",
      "5              6      2013-12-23     2.0          5         6\n",
      "7              8      2014-04-24     NaN          2         3\n",
      "8              9      2015-04-24     7.0          4         3\n"
     ]
    }
   ],
   "source": [
    "#27. Subset rows where an external array, bar, is positive\n",
    "bar = [1, -1, 2, 3, 0, 6, -3, 2, 4, -5]\n",
    "subset_df = df[pd.Series(bar) > 0]\n",
    "print(subset_df)"
   ]
  },
  {
   "cell_type": "code",
   "execution_count": 13,
   "metadata": {},
   "outputs": [
    {
     "name": "stdout",
     "output_type": "stream",
     "text": [
      "   TransactionID TransactionDate  UserID  ProductID  Quantity\n",
      "0              1      2010-08-21     7.0          2         1\n",
      "1              2      2011-05-26     3.0          4         1\n",
      "2              3      2011-06-16     3.0          3         1\n",
      "3              4      2012-08-26     1.0          2         3\n",
      "5              6      2013-12-23     2.0          5         6\n",
      "6              7      2013-12-30     3.0          4         1\n",
      "7              8      2014-04-24     NaN          2         3\n",
      "8              9      2015-04-24     7.0          4         3\n",
      "9             10      2016-05-08     3.0          4         4\n"
     ]
    }
   ],
   "source": [
    "# 28. Subset rows where foo is TRUE or bar is negative\n",
    "foo = [True, False, True, True, False, True, False, True, True, False]\n",
    "bar = [1, -1, 2, 3, 0, 6, -3, 2, 4, -5]\n",
    "\n",
    "subset_df = df[(pd.Series(foo) == True) | (pd.Series(bar) < 0)]\n",
    "print(subset_df)\n"
   ]
  },
  {
   "cell_type": "code",
   "execution_count": null,
   "metadata": {},
   "outputs": [],
   "source": [
    "# 29. Subset the rows where foo is not TRUE and bar is not\n",
    "#negative\n",
    "subset_df = df[(pd.Series(foo) != True) & (pd.Series(bar) >= 0)]\n",
    "print(subset_df)\n"
   ]
  },
  {
   "cell_type": "code",
   "execution_count": null,
   "metadata": {},
   "outputs": [],
   "source": [
    "#30. Subset by columns 1 and 3\n",
    "subset_df = df.iloc[:, [0, 2]]\n",
    "print(subset_df)\n"
   ]
  },
  {
   "cell_type": "code",
   "execution_count": null,
   "metadata": {},
   "outputs": [],
   "source": [
    "#31. Subset by columns TransactionID and\n",
    "#TransactionDate\n",
    "subset_df = df[['TransactionID', 'TransactionDate']]\n",
    "print(subset_df)\n"
   ]
  },
  {
   "cell_type": "code",
   "execution_count": null,
   "metadata": {},
   "outputs": [],
   "source": [
    "#32. Subset by columns TransactionID and\n",
    "#TransactionDate with logical operator\n",
    "subset_df = df[(df['TransactionID'] > 5) & (df['TransactionDate'] < '2015-01-01')]\n",
    "print(subset_df)\n"
   ]
  },
  {
   "cell_type": "code",
   "execution_count": null,
   "metadata": {},
   "outputs": [],
   "source": [
    "#33 Subset columns by a variable list of column names\n",
    "columns_to_select = ['TransactionID', 'Quantity']\n",
    "subset_df = df[columns_to_select]\n",
    "print(subset_df)\n"
   ]
  },
  {
   "cell_type": "code",
   "execution_count": null,
   "metadata": {},
   "outputs": [],
   "source": [
    "#34. Subset columns excluding a variable list of column\n",
    "#names\n",
    "columns_to_exclude = ['UserID', 'ProductID']\n",
    "subset_df = df.drop(columns=columns_to_exclude)\n",
    "print(subset_df)\n"
   ]
  },
  {
   "cell_type": "code",
   "execution_count": 17,
   "metadata": {},
   "outputs": [
    {
     "name": "stdout",
     "output_type": "stream",
     "text": [
      "   TransactionID TransactionDate  UserID  ProductID  Quantity   Foo\n",
      "0              1      2010-08-21     7.0          2        10   9.0\n",
      "1              2      2011-05-26     3.0          4         1   7.0\n",
      "2              3      2011-06-16     3.0          3         1   6.0\n",
      "3              4      2012-08-26     1.0          2         3   3.0\n",
      "4              5      2013-06-06     2.0          4         1   6.0\n",
      "5              6      2013-12-23     2.0          5         6   7.0\n",
      "6              7      2013-12-30     3.0          4         1   7.0\n",
      "7              8      2014-04-24     NaN          2         3   NaN\n",
      "8              9      2015-04-24     7.0          4         3  11.0\n",
      "9             10      2016-05-08     3.0          4         4   7.0\n"
     ]
    }
   ],
   "source": [
    "#35. Inserting and updating values\n",
    "df.loc[0, 'Quantity'] = 10 \n",
    "print(df)\n"
   ]
  },
  {
   "cell_type": "code",
   "execution_count": 15,
   "metadata": {},
   "outputs": [
    {
     "name": "stdout",
     "output_type": "stream",
     "text": [
      "   TransactionID TransactionDate  UserID  ProductID  Quantity   Foo\n",
      "0              1      2010-08-21     7.0          2         1   9.0\n",
      "1              2      2011-05-26     3.0          4         1   7.0\n",
      "2              3      2011-06-16     3.0          3         1   6.0\n",
      "3              4      2012-08-26     1.0          2         3   3.0\n",
      "4              5      2013-06-06     2.0          4         1   6.0\n",
      "5              6      2013-12-23     2.0          5         6   7.0\n",
      "6              7      2013-12-30     3.0          4         1   7.0\n",
      "7              8      2014-04-24     NaN          2         3   NaN\n",
      "8              9      2015-04-24     7.0          4         3  11.0\n",
      "9             10      2016-05-08     3.0          4         4   7.0\n"
     ]
    }
   ],
   "source": [
    "#36. Convert the TransactionDate column to type Date\n",
    "df['TransactionDate'] = pd.to_datetime(df['TransactionDate'])\n",
    "print(df)\n"
   ]
  },
  {
   "cell_type": "code",
   "execution_count": 14,
   "metadata": {},
   "outputs": [
    {
     "name": "stdout",
     "output_type": "stream",
     "text": [
      "   TransactionID TransactionDate  UserID  ProductID  Quantity   Foo\n",
      "0              1      2010-08-21     7.0          2         1   9.0\n",
      "1              2      2011-05-26     3.0          4         1   7.0\n",
      "2              3      2011-06-16     3.0          3         1   6.0\n",
      "3              4      2012-08-26     1.0          2         3   3.0\n",
      "4              5      2013-06-06     2.0          4         1   6.0\n",
      "5              6      2013-12-23     2.0          5         6   7.0\n",
      "6              7      2013-12-30     3.0          4         1   7.0\n",
      "7              8      2014-04-24     NaN          2         3   NaN\n",
      "8              9      2015-04-24     7.0          4         3  11.0\n",
      "9             10      2016-05-08     3.0          4         4   7.0\n"
     ]
    }
   ],
   "source": [
    "#37. Insert a new column, Foo=UserID+ProductID\n",
    "df['Foo'] = df['UserID'] + df['ProductID']\n",
    "print(df)\n"
   ]
  },
  {
   "cell_type": "code",
   "execution_count": null,
   "metadata": {},
   "outputs": [],
   "source": []
  }
 ],
 "metadata": {
  "kernelspec": {
   "display_name": "Python 3",
   "language": "python",
   "name": "python3"
  },
  "language_info": {
   "codemirror_mode": {
    "name": "ipython",
    "version": 3
   },
   "file_extension": ".py",
   "mimetype": "text/x-python",
   "name": "python",
   "nbconvert_exporter": "python",
   "pygments_lexer": "ipython3",
   "version": "3.8.10"
  }
 },
 "nbformat": 4,
 "nbformat_minor": 4
}
